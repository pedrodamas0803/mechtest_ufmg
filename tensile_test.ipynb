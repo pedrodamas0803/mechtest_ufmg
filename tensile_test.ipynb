{
 "cells": [
  {
   "cell_type": "code",
   "execution_count": 1,
   "metadata": {},
   "outputs": [],
   "source": [
    "#Import packages \n",
    "import pandas as pd\n",
    "import matplotlib\n",
    "import matplotlib.pyplot as plt\n",
    "import os\n",
    "import numpy as np\n",
    "import seaborn as sns\n",
    "from itertools import chain\n",
    "from scipy.optimize import curve_fit\n",
    "from scipy import interpolate"
   ]
  },
  {
   "cell_type": "code",
   "execution_count": 2,
   "metadata": {},
   "outputs": [],
   "source": [
    "# import tensile tests data from raw archive\n",
    "# sample_number = input(\"Which sample do you want to analyze?\")\n",
    "# am = \"am\"+ sample_number + \".csv\"\n",
    "# path = os.path.join('mech_test/data', am)\n",
    "data = pd.read_csv('data/am1.csv', sep = ';', header = 1, usecols = ['(s)', '(mm)', '(kN)', '(mm/mm)', '(MPa)'], skiprows = 4, encoding = 'latin_1')"
   ]
  },
  {
   "cell_type": "code",
   "execution_count": null,
   "metadata": {},
   "outputs": [],
   "source": [
    "strain = data['(mm/mm)']\n",
    "stress = data['(MPa)']\n",
    "load = data['(kN)']\n",
    "elong = data['(mm)']\n",
    "time = data['(s)']"
   ]
  },
  {
   "cell_type": "code",
   "execution_count": null,
   "metadata": {},
   "outputs": [],
   "source": [
    "# plot the engineering stress strain curve\n",
    "\n",
    "def engineering_ss(strain, stress):\n",
    "    \n",
    "    %matplotlib inline\n",
    "    plt.figure(figsize = (16, 9))\n",
    "    plt.plot(strain, stress, 'r-')\n",
    "    plt.xlabel('strain (mm/mm)')\n",
    "    plt.ylabel('stress (MPa)')"
   ]
  },
  {
   "cell_type": "code",
   "execution_count": null,
   "metadata": {},
   "outputs": [],
   "source": [
    "engineering_ss(strain, stress)"
   ]
  },
  {
   "cell_type": "code",
   "execution_count": null,
   "metadata": {},
   "outputs": [],
   "source": [
    "def hooke(eps, E, b):\n",
    "    return E * eps + b\n",
    "    \n",
    "    \n",
    "    "
   ]
  },
  {
   "cell_type": "code",
   "execution_count": null,
   "metadata": {},
   "outputs": [],
   "source": [
    "elastic = data[1000:2500]\n",
    "eps = elastic['(mm/mm)']\n",
    "sig = elastic['(MPa)']\n",
    "\n",
    "def elastic_mod(eps, sig):\n",
    "    init_guess = [150000, 0]\n",
    "\n",
    "    model = curve_fit(hooke, eps, sig, init_guess)\n",
    "\n",
    "    ans, cov = model\n",
    "    E, b = ans    \n",
    "    fit_curve = E * eps + b\n",
    "\n",
    "    %matplotlib inline\n",
    "    plt.figure(figsize = (16,9))\n",
    "    plt.plot(eps, sig, 'b.')\n",
    "    plt.plot(eps, fit_curve, 'r-' )\n",
    "    return E, int(b)\n",
    "    \n"
   ]
  },
  {
   "cell_type": "code",
   "execution_count": null,
   "metadata": {},
   "outputs": [],
   "source": [
    "E, b = elastic_mod(eps, sig)\n",
    " "
   ]
  },
  {
   "cell_type": "code",
   "execution_count": null,
   "metadata": {},
   "outputs": [],
   "source": [
    "\n",
    "fitted =  E * eps\n",
    "%matplotlib inline\n",
    "plt.figure(figsize = (16,9))\n",
    "plt.plot(strain, stress, 'b-')\n",
    "plt.plot(eps, fitted, 'r.' )\n",
    "plt.xlabel('strain (mm/mm)')\n",
    "plt.ylabel('stress (MPa)')\n"
   ]
  },
  {
   "cell_type": "code",
   "execution_count": null,
   "metadata": {},
   "outputs": [],
   "source": [
    "def de(strain):\n",
    "    deps = []\n",
    "    for i in range(len(strain)):\n",
    "        if i == 0:\n",
    "            dx = 1E-6\n",
    "        elif strain[i]==strain[i-1]:\n",
    "            dx = 1E-6\n",
    "        else:    \n",
    "            dx = strain[i]-strain[i-1]\n",
    "        \n",
    "        deps.append(dx)\n",
    "\n",
    "    return deps\n",
    "    \n",
    "def ds(stress):\n",
    "    dsig = []\n",
    "    for i in range(len(stress)):\n",
    "        if i == 0:\n",
    "            dy = 1E-6\n",
    "        elif stress[i]==stress[i-1]:\n",
    "            dy = 1E-6\n",
    "        else:    \n",
    "            dy = stress[i]-stress[i-1]\n",
    "        \n",
    "        dsig.append(dy)\n",
    "\n",
    "    return dsig\n",
    "\n",
    "def derivative(dx, dy):\n",
    "    deriv = []\n",
    "    for i in range(len(dx)):\n",
    "        diff = dy[i]/dx[i]\n",
    "        if diff < 0:\n",
    "            diff = None\n",
    "        deriv.append(diff)\n",
    "    \n",
    "    return deriv"
   ]
  },
  {
   "cell_type": "code",
   "execution_count": null,
   "metadata": {},
   "outputs": [],
   "source": [
    "data['dx'] = de(strain)\n",
    "data['dy'] = ds(stress)\n",
    "data['ds/de'] = derivative(data['dx'],data['dy'] )\n",
    "dsde = data['ds/de']"
   ]
  },
  {
   "cell_type": "code",
   "execution_count": null,
   "metadata": {},
   "outputs": [],
   "source": [
    "data\n"
   ]
  },
  {
   "cell_type": "code",
   "execution_count": null,
   "metadata": {},
   "outputs": [],
   "source": [
    "%matplotlib inline\n",
    "plt.figure(figsize = (16, 9))\n",
    "plt.plot(strain, dsde, 'r-')\n",
    "plt.plot(strain, stress, 'b-')\n",
    "# plt.plot(strain, d_sig, 'g-')\n",
    "plt.xlabel('strain (mm/mm)')\n",
    "plt.ylabel('ds/de')\n",
    "plt.ylim(0, 600)"
   ]
  },
  {
   "cell_type": "code",
   "execution_count": null,
   "metadata": {},
   "outputs": [],
   "source": [
    "def clean(strain, dsde):\n",
    "    strain_1 =[]\n",
    "    ds =[]\n",
    "    for i in range(len(strain)):\n",
    "        if i == 0:\n",
    "            st = strain\n",
    "            d = dsde\n",
    "        elif strain[i] > strain[i-1]:\n",
    "            st = strain\n",
    "            d = dsde\n",
    "        strain_1.append(st)\n",
    "        ds.append(d)\n",
    "    return strain_1, ds"
   ]
  },
  {
   "cell_type": "code",
   "execution_count": null,
   "metadata": {},
   "outputs": [],
   "source": [
    "c_strain, c_dsde = clean(strain, dsde)\n",
    "# data['cresc_strain'] = cresc_strain\n",
    "# data['cresc_dsde'] = cresc_dsde"
   ]
  },
  {
   "cell_type": "code",
   "execution_count": null,
   "metadata": {},
   "outputs": [],
   "source": [
    "data['c_strain'] = c_strain\n",
    "data['c_dsde'] = c_dsde"
   ]
  },
  {
   "cell_type": "code",
   "execution_count": null,
   "metadata": {},
   "outputs": [],
   "source": [
    "data.head()"
   ]
  },
  {
   "cell_type": "code",
   "execution_count": null,
   "metadata": {},
   "outputs": [],
   "source": []
  },
  {
   "cell_type": "code",
   "execution_count": null,
   "metadata": {},
   "outputs": [],
   "source": [
    "d_sig = interpolate.InterpolatedUnivariateSpline(strain, data['ds/de'])"
   ]
  },
  {
   "cell_type": "code",
   "execution_count": null,
   "metadata": {},
   "outputs": [],
   "source": [
    "%matplotlib inline\n",
    "plt.figure(figsize = (16, 9))\n",
    "plt.plot(strain, data['ds/de'], 'r.')\n",
    "plt.plot(strain, stress, 'b-')\n",
    "plt.plot(strain, d_sig, 'g-')\n",
    "plt.xlabel('strain (mm/mm)')\n",
    "plt.ylabel('ds/de')\n",
    "plt.ylim(0, 600)"
   ]
  },
  {
   "cell_type": "code",
   "execution_count": null,
   "metadata": {},
   "outputs": [],
   "source": []
  },
  {
   "cell_type": "code",
   "execution_count": null,
   "metadata": {},
   "outputs": [],
   "source": []
  }
 ],
 "metadata": {
  "kernelspec": {
   "display_name": "Python 3",
   "language": "python",
   "name": "python3"
  },
  "language_info": {
   "codemirror_mode": {
    "name": "ipython",
    "version": 3
   },
   "file_extension": ".py",
   "mimetype": "text/x-python",
   "name": "python",
   "nbconvert_exporter": "python",
   "pygments_lexer": "ipython3",
   "version": "3.8.5-final"
  }
 },
 "nbformat": 4,
 "nbformat_minor": 4
}