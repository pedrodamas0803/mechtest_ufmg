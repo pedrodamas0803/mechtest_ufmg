{
 "metadata": {
  "language_info": {
   "codemirror_mode": {
    "name": "ipython",
    "version": 3
   },
   "file_extension": ".py",
   "mimetype": "text/x-python",
   "name": "python",
   "nbconvert_exporter": "python",
   "pygments_lexer": "ipython3",
   "version": 3
  },
  "orig_nbformat": 2
 },
 "nbformat": 4,
 "nbformat_minor": 2,
 "cells": [
  {
   "source": [
    "## How to analyze your tension test data with `mechtest-ufmg`"
   ],
   "cell_type": "markdown",
   "metadata": {}
  },
  {
   "source": [
    "Tension tests are extensively used to characterize material's mechanical properties due to its reproducibility and the variety of patameters that can be obtained from a single test. Among the assessed characteristics are apparent modulus of elasticity, yield strength, tensile strength, ductility, toughness and others. These parameters are extremely important to select the right material for a specified use. Therefore, the objective of `mechtest-ufmg` is to provide an easy and reliable way to derive the referred mechanical properties. The following notebook provides an easy and demonstrative way of how to use `mechtest-ufmg`, and it can be used as a template if the user make the correct changes to the code.  \n"
   ],
   "cell_type": "markdown",
   "metadata": {}
  },
  {
   "source": [
    "### Importing the necessary packages"
   ],
   "cell_type": "markdown",
   "metadata": {}
  },
  {
   "source": [
    "import pandas as pd #is used to import the data from files like csv, txt, xlsx, and others.\n",
    "import mechtest_ufmg as mech #importing the package"
   ],
   "cell_type": "code",
   "metadata": {},
   "execution_count": null,
   "outputs": []
  },
  {
   "source": [
    "### How to import the data\n",
    "\n",
    "Here we will import data that is at `~/data` folder using pandas.\n"
   ],
   "cell_type": "markdown",
   "metadata": {}
  },
  {
   "cell_type": "code",
   "execution_count": null,
   "metadata": {},
   "outputs": [],
   "source": [
    "steel1 = pd.read_csv()"
   ]
  }
 ]
}